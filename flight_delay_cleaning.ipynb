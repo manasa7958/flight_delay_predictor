import pandas as pd

# Load the CSV file (update the filename if different)
df = pd.read_csv('Airline_Delay.csv')  # or 'On_Time_Performance.csv'

# Preview first 5 rows and column names
print(df.columns)
df.head()
